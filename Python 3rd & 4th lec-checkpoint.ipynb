{
 "cells": [
  {
   "cell_type": "markdown",
   "id": "ad27109a",
   "metadata": {},
   "source": [
    "# Conditional Statements"
   ]
  },
  {
   "cell_type": "markdown",
   "id": "33921099",
   "metadata": {},
   "source": [
    "- if\n",
    "- else\n",
    "- elif"
   ]
  },
  {
   "cell_type": "code",
   "execution_count": 1,
   "id": "5ea6701a",
   "metadata": {},
   "outputs": [
    {
     "name": "stdout",
     "output_type": "stream",
     "text": [
      "It's Virat!\n"
     ]
    }
   ],
   "source": [
    "# Check whether the player is Virat Kohli\n",
    "\n",
    "player = 'Virat'\n",
    "\n",
    "if player == 'Virat':\n",
    "    print(\"It's Virat!\")"
   ]
  },
  {
   "cell_type": "code",
   "execution_count": 2,
   "id": "5fdfc81a",
   "metadata": {},
   "outputs": [
    {
     "name": "stdout",
     "output_type": "stream",
     "text": [
      "It's not Rohit\n"
     ]
    }
   ],
   "source": [
    "if player == 'Rohit':\n",
    "    print(\"It's Rohit\")\n",
    "else:\n",
    "    print(\"It's not Rohit\")"
   ]
  },
  {
   "cell_type": "code",
   "execution_count": 4,
   "id": "146c4af5",
   "metadata": {},
   "outputs": [
    {
     "name": "stdout",
     "output_type": "stream",
     "text": [
      "Enter your userID: xyz@123\n",
      "Invalid ID\n"
     ]
    }
   ],
   "source": [
    "user = input('Enter your userID: ')\n",
    "\n",
    "if user == 'abc@123':\n",
    "    print('Access Granted')\n",
    "else:\n",
    "    print('Invalid ID')"
   ]
  },
  {
   "cell_type": "code",
   "execution_count": 6,
   "id": "a6d8eaa1",
   "metadata": {},
   "outputs": [
    {
     "name": "stdout",
     "output_type": "stream",
     "text": [
      "Enter the number: -3\n",
      "It is a negative number\n"
     ]
    }
   ],
   "source": [
    "# Check whether the number is positive / negative\n",
    "# if int() is not mentioned it will give an error as it will consider the input as string\n",
    "\n",
    "num = int(input('Enter the number: '))\n",
    "\n",
    "if num >= 0:\n",
    "    print('It is a positive number')\n",
    "else:\n",
    "    print('It is a negative number')"
   ]
  },
  {
   "cell_type": "code",
   "execution_count": 7,
   "id": "8804e1fc",
   "metadata": {},
   "outputs": [],
   "source": [
    "# elif"
   ]
  },
  {
   "cell_type": "code",
   "execution_count": 11,
   "id": "d8b1dcb6",
   "metadata": {},
   "outputs": [
    {
     "name": "stdout",
     "output_type": "stream",
     "text": [
      "Enter the numebr: 0\n",
      "Zero\n"
     ]
    }
   ],
   "source": [
    "# Check whether the number is positive/negative/zero\n",
    "\n",
    "num = int(input('Enter the numebr: '))\n",
    "\n",
    "if num > 0:\n",
    "    print('Positive number')\n",
    "elif num == 0:\n",
    "    print('Zero')\n",
    "else:\n",
    "    print('Negative number')"
   ]
  },
  {
   "cell_type": "code",
   "execution_count": 12,
   "id": "736bdc5b",
   "metadata": {},
   "outputs": [
    {
     "name": "stdout",
     "output_type": "stream",
     "text": [
      "Enter your marks: 90\n",
      "A Grade\n"
     ]
    }
   ],
   "source": [
    "# Give grades based on percentages\n",
    "#A : marks >= 85\n",
    "#B : marks < 85 and >= 70\n",
    "#C : marks < 70 and >= 60\n",
    "#D\n",
    "\n",
    "marks = int(input('Enter your marks: '))\n",
    "\n",
    "if marks >= 85:\n",
    "    print('A Grade')\n",
    "elif (marks < 85) and (marks >= 70):\n",
    "    print('B Grade')\n",
    "elif (marks < 70) and (marks >= 60):\n",
    "    print('C Grade')\n",
    "else:\n",
    "    print('D Grade')"
   ]
  },
  {
   "cell_type": "code",
   "execution_count": 20,
   "id": "be9fa24b",
   "metadata": {},
   "outputs": [
    {
     "name": "stdout",
     "output_type": "stream",
     "text": [
      "Enter your score: 75\n",
      "25 more runs are needed\n"
     ]
    }
   ],
   "source": [
    "score = int(input('Enter your score: '))\n",
    "\n",
    "if score >= 100:\n",
    "    print('Century')\n",
    "else:\n",
    "    runs = 100 - score\n",
    "    print(runs, 'more runs are needed')"
   ]
  },
  {
   "cell_type": "code",
   "execution_count": 21,
   "id": "237ad946",
   "metadata": {},
   "outputs": [
    {
     "name": "stdout",
     "output_type": "stream",
     "text": [
      "Enter your runs: 99\n",
      "Not a century. You still need to make  1 runs\n"
     ]
    }
   ],
   "source": [
    "runs = int(input('Enter your runs: '))\n",
    "\n",
    "if runs >= 100:\n",
    "    print('Century')\n",
    "else:\n",
    "    print('Not a century. You still need to make ', 100-runs, 'runs')"
   ]
  },
  {
   "cell_type": "code",
   "execution_count": 22,
   "id": "f0237338",
   "metadata": {},
   "outputs": [
    {
     "name": "stdout",
     "output_type": "stream",
     "text": [
      "Enter the number: 999\n",
      "Three digited\n"
     ]
    }
   ],
   "source": [
    "num = int(input('Enter the number: '))\n",
    "\n",
    "if num < 10:\n",
    "    print('Single digit')\n",
    "elif (num >= 10) and (num < 100):\n",
    "    print('Double digit')\n",
    "else:\n",
    "    print('Three digited')"
   ]
  },
  {
   "cell_type": "code",
   "execution_count": 23,
   "id": "e8fe1cd5",
   "metadata": {},
   "outputs": [
    {
     "name": "stdout",
     "output_type": "stream",
     "text": [
      "Enter name: Pooja\n",
      "Enter your age: 23\n",
      "Enter your designation: Biotechnologist\n",
      "Enter your location: Kolhapur\n",
      "My name is Pooja. I am 23 years old. I work as Biotechnologist. I live in Kolhapur.\n"
     ]
    }
   ],
   "source": [
    "# Format string\n",
    "\n",
    "name = input('Enter name: ')\n",
    "age = input('Enter your age: ')\n",
    "designation = input('Enter your designation: ')\n",
    "location = input('Enter your location: ')\n",
    "\n",
    "print(f\"My name is {name}. I am {age} years old. I work as {designation}. I live in {location}.\")"
   ]
  },
  {
   "cell_type": "code",
   "execution_count": 24,
   "id": "70cd6319",
   "metadata": {},
   "outputs": [
    {
     "name": "stdout",
     "output_type": "stream",
     "text": [
      "Enter your runs: 98\n",
      "Not a century. You still need to make 2 runs.\n"
     ]
    }
   ],
   "source": [
    "runs = int(input('Enter your runs: '))\n",
    "\n",
    "if runs >= 100:\n",
    "    print('Century')\n",
    "else:\n",
    "    print(f'Not a century. You still need to make {100-runs} runs.')"
   ]
  },
  {
   "cell_type": "markdown",
   "id": "02742969",
   "metadata": {},
   "source": [
    "# Functions"
   ]
  },
  {
   "cell_type": "markdown",
   "id": "369d227d",
   "metadata": {},
   "source": [
    "- Two types of functions:\n",
    "  - Built-in funtions\n",
    "  - User defined function\n",
    "- We can create our own customized functions"
   ]
  },
  {
   "cell_type": "code",
   "execution_count": 25,
   "id": "ac242bb6",
   "metadata": {},
   "outputs": [],
   "source": [
    "# Basic Function"
   ]
  },
  {
   "cell_type": "code",
   "execution_count": 26,
   "id": "f84f4657",
   "metadata": {},
   "outputs": [],
   "source": [
    "def simple_function():\n",
    "    print('This is user defined function')"
   ]
  },
  {
   "cell_type": "code",
   "execution_count": 27,
   "id": "3aa51aab",
   "metadata": {},
   "outputs": [
    {
     "name": "stdout",
     "output_type": "stream",
     "text": [
      "This is user defined function\n"
     ]
    }
   ],
   "source": [
    "simple_function()"
   ]
  },
  {
   "cell_type": "code",
   "execution_count": 28,
   "id": "1f460013",
   "metadata": {},
   "outputs": [],
   "source": [
    "# Docstring"
   ]
  },
  {
   "cell_type": "code",
   "execution_count": 29,
   "id": "db1e7cb1",
   "metadata": {},
   "outputs": [],
   "source": [
    "def function1():\n",
    "    '''This function will print 2 sentences.'''\n",
    "    print('This is first sentence')\n",
    "    print('This is second sentence')"
   ]
  },
  {
   "cell_type": "code",
   "execution_count": 30,
   "id": "000f1d9d",
   "metadata": {},
   "outputs": [
    {
     "name": "stdout",
     "output_type": "stream",
     "text": [
      "This is first sentence\n",
      "This is second sentence\n"
     ]
    }
   ],
   "source": [
    "function1()"
   ]
  },
  {
   "cell_type": "code",
   "execution_count": 31,
   "id": "56c9032d",
   "metadata": {},
   "outputs": [],
   "source": [
    "def max_number(num1,num2):\n",
    "    '''This function returns max number between the two given numbers'''\n",
    "    return max(num1,num2)"
   ]
  },
  {
   "cell_type": "code",
   "execution_count": 32,
   "id": "0846f5b5",
   "metadata": {},
   "outputs": [
    {
     "data": {
      "text/plain": [
       "50"
      ]
     },
     "execution_count": 32,
     "metadata": {},
     "output_type": "execute_result"
    }
   ],
   "source": [
    "max_number(50,30)"
   ]
  },
  {
   "cell_type": "code",
   "execution_count": 33,
   "id": "9ce9f397",
   "metadata": {},
   "outputs": [],
   "source": [
    "def max_number(a,b):\n",
    "    if a>b:\n",
    "        return a\n",
    "    else:\n",
    "        return b"
   ]
  },
  {
   "cell_type": "code",
   "execution_count": 35,
   "id": "72396135",
   "metadata": {},
   "outputs": [
    {
     "data": {
      "text/plain": [
       "20"
      ]
     },
     "execution_count": 35,
     "metadata": {},
     "output_type": "execute_result"
    }
   ],
   "source": [
    "max_number(5,20)"
   ]
  },
  {
   "cell_type": "markdown",
   "id": "974e20a9",
   "metadata": {},
   "source": [
    "# Loops"
   ]
  },
  {
   "cell_type": "markdown",
   "id": "cf3464cc",
   "metadata": {},
   "source": [
    "- While loop\n",
    "- For loop"
   ]
  },
  {
   "cell_type": "code",
   "execution_count": 1,
   "id": "41af9a1f",
   "metadata": {},
   "outputs": [],
   "source": [
    "# While loops"
   ]
  },
  {
   "cell_type": "code",
   "execution_count": 2,
   "id": "8d05ca79",
   "metadata": {},
   "outputs": [
    {
     "name": "stdout",
     "output_type": "stream",
     "text": [
      "Learning python 10\n",
      "Learning python 9\n",
      "Learning python 8\n",
      "Learning python 7\n",
      "Learning python 6\n",
      "Learning python 5\n",
      "Learning python 4\n",
      "Learning python 3\n",
      "Learning python 2\n",
      "Learning python 1\n",
      "Python completed\n"
     ]
    }
   ],
   "source": [
    "python = 10\n",
    "\n",
    "while python > 0:\n",
    "    print('Learning python', python)\n",
    "    python = python - 1\n",
    "print('Python completed')"
   ]
  },
  {
   "cell_type": "code",
   "execution_count": 4,
   "id": "91c328c6",
   "metadata": {},
   "outputs": [
    {
     "name": "stdout",
     "output_type": "stream",
     "text": [
      "0 -Not Eligible\n",
      "1 -Not Eligible\n",
      "2 -Not Eligible\n",
      "3 -Not Eligible\n",
      "4 -Not Eligible\n",
      "5 -Not Eligible\n",
      "6 -Not Eligible\n",
      "7 -Not Eligible\n",
      "8 -Not Eligible\n",
      "9 -Not Eligible\n",
      "10 -Not Eligible\n",
      "11 -Not Eligible\n",
      "12 -Not Eligible\n",
      "13 -Not Eligible\n",
      "14 -Not Eligible\n",
      "15 -Not Eligible\n",
      "16 -Not Eligible\n",
      "17 -Not Eligible\n",
      "Eligible\n"
     ]
    }
   ],
   "source": [
    "age = 0\n",
    "\n",
    "while age < 18:\n",
    "    print(age,'-Not Eligible')\n",
    "    age = age + 1\n",
    "print('Eligible')"
   ]
  },
  {
   "cell_type": "code",
   "execution_count": 5,
   "id": "4db88695",
   "metadata": {},
   "outputs": [
    {
     "data": {
      "text/plain": [
       "18"
      ]
     },
     "execution_count": 5,
     "metadata": {},
     "output_type": "execute_result"
    }
   ],
   "source": [
    "age"
   ]
  },
  {
   "cell_type": "code",
   "execution_count": 6,
   "id": "1f5b9586",
   "metadata": {},
   "outputs": [
    {
     "name": "stdout",
     "output_type": "stream",
     "text": [
      "21\n",
      "Learning python 21\n",
      "Learning python 20\n",
      "Learning python 19\n",
      "Learning python 18\n",
      "Learning python 17\n",
      "Learning python 16\n",
      "Learning python 15\n",
      "Learning python 14\n",
      "Learning python 13\n",
      "Learning python 12\n",
      "Learning python 11\n",
      "Learning python 10\n",
      "Learning python 9\n",
      "Learning python 8\n",
      "Learning python 7\n",
      "Learning python 6\n",
      "Learning python 5\n",
      "Learning python 4\n",
      "Learning python 3\n",
      "Learning python 2\n",
      "Learning python 1\n",
      "Python completed\n"
     ]
    }
   ],
   "source": [
    "python = int(input())\n",
    "\n",
    "while python > 0:\n",
    "    print('Learning python', python)\n",
    "    python = python - 1\n",
    "print('Python completed')"
   ]
  },
  {
   "cell_type": "code",
   "execution_count": 7,
   "id": "20a860c4",
   "metadata": {},
   "outputs": [],
   "source": [
    "# Range function"
   ]
  },
  {
   "cell_type": "code",
   "execution_count": 8,
   "id": "011ed4f3",
   "metadata": {},
   "outputs": [
    {
     "data": {
      "text/plain": [
       "[1, 2, 3, 4, 5, 6, 7, 8, 9, 10, 11, 12, 13, 14, 15, 16, 17, 18, 19]"
      ]
     },
     "execution_count": 8,
     "metadata": {},
     "output_type": "execute_result"
    }
   ],
   "source": [
    "list(range(1,20))"
   ]
  },
  {
   "cell_type": "code",
   "execution_count": 10,
   "id": "2a9b6f7d",
   "metadata": {},
   "outputs": [
    {
     "data": {
      "text/plain": [
       "[1,\n",
       " 3,\n",
       " 5,\n",
       " 7,\n",
       " 9,\n",
       " 11,\n",
       " 13,\n",
       " 15,\n",
       " 17,\n",
       " 19,\n",
       " 21,\n",
       " 23,\n",
       " 25,\n",
       " 27,\n",
       " 29,\n",
       " 31,\n",
       " 33,\n",
       " 35,\n",
       " 37,\n",
       " 39,\n",
       " 41,\n",
       " 43,\n",
       " 45,\n",
       " 47,\n",
       " 49]"
      ]
     },
     "execution_count": 10,
     "metadata": {},
     "output_type": "execute_result"
    }
   ],
   "source": [
    "list(range(1,50,2))"
   ]
  },
  {
   "cell_type": "code",
   "execution_count": 13,
   "id": "c1899313",
   "metadata": {},
   "outputs": [
    {
     "data": {
      "text/plain": [
       "[10, 9, 8, 7, 6, 5, 4, 3, 2]"
      ]
     },
     "execution_count": 13,
     "metadata": {},
     "output_type": "execute_result"
    }
   ],
   "source": [
    "list(range(10,1,-1))"
   ]
  },
  {
   "cell_type": "code",
   "execution_count": 14,
   "id": "7a658539",
   "metadata": {},
   "outputs": [],
   "source": [
    "# For loop"
   ]
  },
  {
   "cell_type": "code",
   "execution_count": 15,
   "id": "2ab2eb99",
   "metadata": {},
   "outputs": [],
   "source": [
    "lst = [1,2,3,4,5]"
   ]
  },
  {
   "cell_type": "code",
   "execution_count": 16,
   "id": "f1a45244",
   "metadata": {},
   "outputs": [
    {
     "name": "stdout",
     "output_type": "stream",
     "text": [
      "1\n",
      "2\n",
      "3\n",
      "4\n",
      "5\n",
      "6\n",
      "7\n",
      "8\n",
      "9\n",
      "10\n",
      "11\n",
      "12\n",
      "13\n",
      "14\n",
      "15\n",
      "16\n",
      "17\n",
      "18\n",
      "19\n",
      "20\n",
      "21\n",
      "22\n",
      "23\n",
      "24\n",
      "25\n",
      "26\n",
      "27\n",
      "28\n",
      "29\n",
      "30\n",
      "31\n",
      "32\n",
      "33\n",
      "34\n",
      "35\n",
      "36\n",
      "37\n",
      "38\n",
      "39\n",
      "40\n",
      "41\n",
      "42\n",
      "43\n",
      "44\n",
      "45\n",
      "46\n",
      "47\n",
      "48\n",
      "49\n",
      "50\n",
      "51\n",
      "52\n",
      "53\n",
      "54\n",
      "55\n",
      "56\n",
      "57\n",
      "58\n",
      "59\n",
      "60\n",
      "61\n",
      "62\n",
      "63\n",
      "64\n",
      "65\n",
      "66\n",
      "67\n",
      "68\n",
      "69\n",
      "70\n",
      "71\n",
      "72\n",
      "73\n",
      "74\n",
      "75\n",
      "76\n",
      "77\n",
      "78\n",
      "79\n",
      "80\n",
      "81\n",
      "82\n",
      "83\n",
      "84\n",
      "85\n",
      "86\n",
      "87\n",
      "88\n",
      "89\n",
      "90\n",
      "91\n",
      "92\n",
      "93\n",
      "94\n",
      "95\n",
      "96\n",
      "97\n",
      "98\n",
      "99\n"
     ]
    }
   ],
   "source": [
    "#temporary list\n",
    "\n",
    "for i in range(1,100):\n",
    "    print(i)"
   ]
  },
  {
   "cell_type": "code",
   "execution_count": 17,
   "id": "7436eb7f",
   "metadata": {},
   "outputs": [],
   "source": [
    "#permanent list\n",
    "\n",
    "lst = []\n",
    "\n",
    "for i in range(1,100,3):\n",
    "    lst.append(i)"
   ]
  },
  {
   "cell_type": "code",
   "execution_count": 18,
   "id": "9f980f66",
   "metadata": {},
   "outputs": [
    {
     "data": {
      "text/plain": [
       "[1,\n",
       " 4,\n",
       " 7,\n",
       " 10,\n",
       " 13,\n",
       " 16,\n",
       " 19,\n",
       " 22,\n",
       " 25,\n",
       " 28,\n",
       " 31,\n",
       " 34,\n",
       " 37,\n",
       " 40,\n",
       " 43,\n",
       " 46,\n",
       " 49,\n",
       " 52,\n",
       " 55,\n",
       " 58,\n",
       " 61,\n",
       " 64,\n",
       " 67,\n",
       " 70,\n",
       " 73,\n",
       " 76,\n",
       " 79,\n",
       " 82,\n",
       " 85,\n",
       " 88,\n",
       " 91,\n",
       " 94,\n",
       " 97]"
      ]
     },
     "execution_count": 18,
     "metadata": {},
     "output_type": "execute_result"
    }
   ],
   "source": [
    "lst"
   ]
  },
  {
   "cell_type": "code",
   "execution_count": 30,
   "id": "10896afb",
   "metadata": {},
   "outputs": [],
   "source": [
    "sq = []\n",
    "\n",
    "for i in range(1,10):\n",
    "    sq.append(i**2)"
   ]
  },
  {
   "cell_type": "code",
   "execution_count": 31,
   "id": "ef062ec8",
   "metadata": {},
   "outputs": [
    {
     "data": {
      "text/plain": [
       "[1, 4, 9, 16, 25, 36, 49, 64, 81]"
      ]
     },
     "execution_count": 31,
     "metadata": {},
     "output_type": "execute_result"
    }
   ],
   "source": [
    "sq"
   ]
  },
  {
   "cell_type": "code",
   "execution_count": 32,
   "id": "c896adb9",
   "metadata": {},
   "outputs": [
    {
     "data": {
      "text/plain": [
       "[1, 8, 27, 64, 125, 216, 343, 512, 729]"
      ]
     },
     "execution_count": 32,
     "metadata": {},
     "output_type": "execute_result"
    }
   ],
   "source": [
    "cb = []\n",
    "\n",
    "for i in range(1,10):\n",
    "    cb.append(i**3)\n",
    "\n",
    "cb"
   ]
  },
  {
   "cell_type": "code",
   "execution_count": 24,
   "id": "3f5e5ad2",
   "metadata": {},
   "outputs": [
    {
     "data": {
      "text/plain": [
       "['myntra', 'amazon', 'ajio']"
      ]
     },
     "execution_count": 24,
     "metadata": {},
     "output_type": "execute_result"
    }
   ],
   "source": [
    "company = ['myntra', 'amazon', 'ajio']\n",
    "company"
   ]
  },
  {
   "cell_type": "code",
   "execution_count": 25,
   "id": "1ebb9c56",
   "metadata": {},
   "outputs": [
    {
     "name": "stdout",
     "output_type": "stream",
     "text": [
      "myntra\n",
      "amazon\n",
      "ajio\n"
     ]
    }
   ],
   "source": [
    "for c in company:\n",
    "    print(c)"
   ]
  },
  {
   "cell_type": "code",
   "execution_count": 26,
   "id": "e117d337",
   "metadata": {},
   "outputs": [
    {
     "name": "stdout",
     "output_type": "stream",
     "text": [
      "www.myntra.com\n",
      "www.amazon.com\n",
      "www.ajio.com\n"
     ]
    }
   ],
   "source": [
    "for w in company:\n",
    "    print('www.'+ w + '.com')"
   ]
  },
  {
   "cell_type": "markdown",
   "id": "2408955a",
   "metadata": {},
   "source": [
    "# List comprehension\n",
    "\n",
    "- Easiest way of creating list data structure along with any loop or conditional statements"
   ]
  },
  {
   "cell_type": "code",
   "execution_count": 27,
   "id": "0959f0fa",
   "metadata": {},
   "outputs": [],
   "source": [
    "x = [num+10 for num in range(1,51)]"
   ]
  },
  {
   "cell_type": "code",
   "execution_count": 28,
   "id": "364b6f38",
   "metadata": {},
   "outputs": [
    {
     "data": {
      "text/plain": [
       "[11,\n",
       " 12,\n",
       " 13,\n",
       " 14,\n",
       " 15,\n",
       " 16,\n",
       " 17,\n",
       " 18,\n",
       " 19,\n",
       " 20,\n",
       " 21,\n",
       " 22,\n",
       " 23,\n",
       " 24,\n",
       " 25,\n",
       " 26,\n",
       " 27,\n",
       " 28,\n",
       " 29,\n",
       " 30,\n",
       " 31,\n",
       " 32,\n",
       " 33,\n",
       " 34,\n",
       " 35,\n",
       " 36,\n",
       " 37,\n",
       " 38,\n",
       " 39,\n",
       " 40,\n",
       " 41,\n",
       " 42,\n",
       " 43,\n",
       " 44,\n",
       " 45,\n",
       " 46,\n",
       " 47,\n",
       " 48,\n",
       " 49,\n",
       " 50,\n",
       " 51,\n",
       " 52,\n",
       " 53,\n",
       " 54,\n",
       " 55,\n",
       " 56,\n",
       " 57,\n",
       " 58,\n",
       " 59,\n",
       " 60]"
      ]
     },
     "execution_count": 28,
     "metadata": {},
     "output_type": "execute_result"
    }
   ],
   "source": [
    "x"
   ]
  },
  {
   "cell_type": "code",
   "execution_count": 33,
   "id": "72f85ead",
   "metadata": {},
   "outputs": [
    {
     "data": {
      "text/plain": [
       "['Aisha', 'Ameya', 'Nikita', 'Aarya', 'Pooja']"
      ]
     },
     "execution_count": 33,
     "metadata": {},
     "output_type": "execute_result"
    }
   ],
   "source": [
    "names = ['Aisha', 'Ameya', 'Nikita', 'Aarya', 'Pooja']\n",
    "names"
   ]
  },
  {
   "cell_type": "code",
   "execution_count": 46,
   "id": "4327ec88",
   "metadata": {},
   "outputs": [
    {
     "name": "stdout",
     "output_type": "stream",
     "text": [
      "Aisha\n",
      "Ameya\n",
      "Aarya\n"
     ]
    }
   ],
   "source": [
    "for n in names:\n",
    "    if n.startswith('A'):\n",
    "        print(n)"
   ]
  },
  {
   "cell_type": "code",
   "execution_count": 56,
   "id": "f34db880",
   "metadata": {},
   "outputs": [
    {
     "name": "stdout",
     "output_type": "stream",
     "text": [
      "Aisha\n",
      "Ameya\n",
      "Aarya\n"
     ]
    }
   ],
   "source": [
    "lst=[]\n",
    "\n",
    "for n in names:\n",
    "    if n.startswith('A'):\n",
    "        print(n)\n",
    "        lst.append(n)"
   ]
  },
  {
   "cell_type": "code",
   "execution_count": 36,
   "id": "1eab0486",
   "metadata": {},
   "outputs": [],
   "source": [
    "lst = []\n",
    "for i in range(1,11):\n",
    "    lst.append(i+5)"
   ]
  },
  {
   "cell_type": "code",
   "execution_count": 37,
   "id": "998ba347",
   "metadata": {},
   "outputs": [
    {
     "data": {
      "text/plain": [
       "[6, 7, 8, 9, 10, 11, 12, 13, 14, 15]"
      ]
     },
     "execution_count": 37,
     "metadata": {},
     "output_type": "execute_result"
    }
   ],
   "source": [
    "lst"
   ]
  },
  {
   "cell_type": "code",
   "execution_count": null,
   "id": "fe9d7ff4",
   "metadata": {},
   "outputs": [],
   "source": [
    "#create a list of marks and print marks > 75"
   ]
  },
  {
   "cell_type": "code",
   "execution_count": null,
   "id": "b3eb04b0",
   "metadata": {},
   "outputs": [],
   "source": []
  },
  {
   "cell_type": "code",
   "execution_count": 50,
   "id": "991b3ca6",
   "metadata": {},
   "outputs": [
    {
     "name": "stdout",
     "output_type": "stream",
     "text": [
      "Enter any number: 3\n",
      "3*10=30\n",
      "3*9=27\n",
      "3*8=24\n",
      "3*7=21\n",
      "3*6=18\n",
      "3*5=15\n",
      "3*4=12\n",
      "3*3=9\n",
      "3*2=6\n",
      "3*1=3\n"
     ]
    }
   ],
   "source": [
    "#reverse multiplication table\n",
    "\n",
    "number = int(input('Enter any number: '))\n",
    "\n",
    "for i in range(10,0,-1):\n",
    "    print(f\"{number}*{i}={number*i}\")"
   ]
  },
  {
   "cell_type": "code",
   "execution_count": null,
   "id": "ce4353fb",
   "metadata": {},
   "outputs": [],
   "source": []
  }
 ],
 "metadata": {
  "kernelspec": {
   "display_name": "Python 3 (ipykernel)",
   "language": "python",
   "name": "python3"
  },
  "language_info": {
   "codemirror_mode": {
    "name": "ipython",
    "version": 3
   },
   "file_extension": ".py",
   "mimetype": "text/x-python",
   "name": "python",
   "nbconvert_exporter": "python",
   "pygments_lexer": "ipython3",
   "version": "3.11.4"
  }
 },
 "nbformat": 4,
 "nbformat_minor": 5
}
