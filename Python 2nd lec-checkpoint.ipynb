{
 "cells": [
  {
   "cell_type": "markdown",
   "id": "a131b50e",
   "metadata": {},
   "source": [
    "# Data Structures"
   ]
  },
  {
   "cell_type": "markdown",
   "id": "28c5f352",
   "metadata": {},
   "source": [
    "- Homogeneous\n",
    "  - Array\n",
    "- Heterogeneous\n",
    "  - Mutable\n",
    "    - List\n",
    "    - Dictionary\n",
    "  - Immutable\n",
    "    - Tuple\n",
    "    - Sets"
   ]
  },
  {
   "cell_type": "markdown",
   "id": "c7b516b4",
   "metadata": {},
   "source": [
    "# List"
   ]
  },
  {
   "cell_type": "code",
   "execution_count": null,
   "id": "74311efe",
   "metadata": {},
   "outputs": [],
   "source": [
    "# Creating lists"
   ]
  },
  {
   "cell_type": "code",
   "execution_count": 3,
   "id": "66e4b6df",
   "metadata": {},
   "outputs": [
    {
     "data": {
      "text/plain": [
       "list"
      ]
     },
     "execution_count": 3,
     "metadata": {},
     "output_type": "execute_result"
    }
   ],
   "source": [
    "lst = []\n",
    "type(lst)"
   ]
  },
  {
   "cell_type": "code",
   "execution_count": 6,
   "id": "71622e2d",
   "metadata": {},
   "outputs": [],
   "source": [
    "lst = [10, 10.2, True, 'Python']"
   ]
  },
  {
   "cell_type": "code",
   "execution_count": 7,
   "id": "c54c9c89",
   "metadata": {},
   "outputs": [],
   "source": [
    "# append"
   ]
  },
  {
   "cell_type": "code",
   "execution_count": 8,
   "id": "29ce85a2",
   "metadata": {},
   "outputs": [],
   "source": [
    "lst.append(False)       # adds the data at the last"
   ]
  },
  {
   "cell_type": "code",
   "execution_count": 9,
   "id": "45dc4e94",
   "metadata": {},
   "outputs": [
    {
     "data": {
      "text/plain": [
       "[10, 10.2, True, 'Python', False]"
      ]
     },
     "execution_count": 9,
     "metadata": {},
     "output_type": "execute_result"
    }
   ],
   "source": [
    "lst"
   ]
  },
  {
   "cell_type": "code",
   "execution_count": 10,
   "id": "191796c7",
   "metadata": {},
   "outputs": [],
   "source": [
    "# count"
   ]
  },
  {
   "cell_type": "code",
   "execution_count": 11,
   "id": "b48ef62c",
   "metadata": {},
   "outputs": [
    {
     "data": {
      "text/plain": [
       "1"
      ]
     },
     "execution_count": 11,
     "metadata": {},
     "output_type": "execute_result"
    }
   ],
   "source": [
    "lst.count(10)"
   ]
  },
  {
   "cell_type": "code",
   "execution_count": 12,
   "id": "488d05f6",
   "metadata": {},
   "outputs": [
    {
     "data": {
      "text/plain": [
       "0"
      ]
     },
     "execution_count": 12,
     "metadata": {},
     "output_type": "execute_result"
    }
   ],
   "source": [
    "lst.count('R')"
   ]
  },
  {
   "cell_type": "code",
   "execution_count": 13,
   "id": "916b408f",
   "metadata": {},
   "outputs": [],
   "source": [
    "# Index"
   ]
  },
  {
   "cell_type": "code",
   "execution_count": 18,
   "id": "fdebf73a",
   "metadata": {},
   "outputs": [
    {
     "data": {
      "text/plain": [
       "2"
      ]
     },
     "execution_count": 18,
     "metadata": {},
     "output_type": "execute_result"
    }
   ],
   "source": [
    "lst.index(10.2)"
   ]
  },
  {
   "cell_type": "code",
   "execution_count": 14,
   "id": "e085123c",
   "metadata": {},
   "outputs": [],
   "source": [
    "# Insert"
   ]
  },
  {
   "cell_type": "code",
   "execution_count": 16,
   "id": "b9706713",
   "metadata": {},
   "outputs": [],
   "source": [
    "lst.insert(0,1000)"
   ]
  },
  {
   "cell_type": "code",
   "execution_count": 17,
   "id": "2b17cfe6",
   "metadata": {},
   "outputs": [
    {
     "data": {
      "text/plain": [
       "[1000, 10, 10.2, True, 'Python', False]"
      ]
     },
     "execution_count": 17,
     "metadata": {},
     "output_type": "execute_result"
    }
   ],
   "source": [
    "lst"
   ]
  },
  {
   "cell_type": "code",
   "execution_count": 19,
   "id": "0ac28c26",
   "metadata": {},
   "outputs": [],
   "source": [
    "# pop"
   ]
  },
  {
   "cell_type": "code",
   "execution_count": 20,
   "id": "0e3ae8c4",
   "metadata": {},
   "outputs": [
    {
     "data": {
      "text/plain": [
       "False"
      ]
     },
     "execution_count": 20,
     "metadata": {},
     "output_type": "execute_result"
    }
   ],
   "source": [
    "lst.pop()"
   ]
  },
  {
   "cell_type": "code",
   "execution_count": 21,
   "id": "08dacaf3",
   "metadata": {},
   "outputs": [],
   "source": [
    "# remove"
   ]
  },
  {
   "cell_type": "code",
   "execution_count": 22,
   "id": "18a3f3eb",
   "metadata": {},
   "outputs": [],
   "source": [
    "lst.remove(10.2)"
   ]
  },
  {
   "cell_type": "code",
   "execution_count": 23,
   "id": "77bfacc1",
   "metadata": {},
   "outputs": [
    {
     "data": {
      "text/plain": [
       "[1000, 10, True, 'Python']"
      ]
     },
     "execution_count": 23,
     "metadata": {},
     "output_type": "execute_result"
    }
   ],
   "source": [
    "lst"
   ]
  },
  {
   "cell_type": "markdown",
   "id": "245988d1",
   "metadata": {},
   "source": [
    "# Tuple"
   ]
  },
  {
   "cell_type": "code",
   "execution_count": 24,
   "id": "6479d128",
   "metadata": {},
   "outputs": [],
   "source": [
    "t = (10, 5.5, True, 'Python')"
   ]
  },
  {
   "cell_type": "code",
   "execution_count": 27,
   "id": "32609e40",
   "metadata": {},
   "outputs": [
    {
     "data": {
      "text/plain": [
       "(10, 5.5, True, 'Python')"
      ]
     },
     "execution_count": 27,
     "metadata": {},
     "output_type": "execute_result"
    }
   ],
   "source": [
    "t"
   ]
  },
  {
   "cell_type": "code",
   "execution_count": null,
   "id": "111938ae",
   "metadata": {},
   "outputs": [],
   "source": [
    "# count"
   ]
  },
  {
   "cell_type": "code",
   "execution_count": 25,
   "id": "921cf39c",
   "metadata": {},
   "outputs": [
    {
     "data": {
      "text/plain": [
       "1"
      ]
     },
     "execution_count": 25,
     "metadata": {},
     "output_type": "execute_result"
    }
   ],
   "source": [
    "t.count(5.5)"
   ]
  },
  {
   "cell_type": "code",
   "execution_count": null,
   "id": "35a5233c",
   "metadata": {},
   "outputs": [],
   "source": [
    "# index"
   ]
  },
  {
   "cell_type": "code",
   "execution_count": 26,
   "id": "a1e4c0e0",
   "metadata": {},
   "outputs": [
    {
     "data": {
      "text/plain": [
       "1"
      ]
     },
     "execution_count": 26,
     "metadata": {},
     "output_type": "execute_result"
    }
   ],
   "source": [
    "t.index(5.5)"
   ]
  },
  {
   "cell_type": "code",
   "execution_count": 28,
   "id": "ef462c48",
   "metadata": {},
   "outputs": [],
   "source": [
    "#Accessing elements from tuple"
   ]
  },
  {
   "cell_type": "code",
   "execution_count": 29,
   "id": "7071cff3",
   "metadata": {},
   "outputs": [
    {
     "data": {
      "text/plain": [
       "(10, 5.5, True, 'Python')"
      ]
     },
     "execution_count": 29,
     "metadata": {},
     "output_type": "execute_result"
    }
   ],
   "source": [
    "t"
   ]
  },
  {
   "cell_type": "code",
   "execution_count": 30,
   "id": "5c881da8",
   "metadata": {},
   "outputs": [
    {
     "data": {
      "text/plain": [
       "5.5"
      ]
     },
     "execution_count": 30,
     "metadata": {},
     "output_type": "execute_result"
    }
   ],
   "source": [
    "t[1]"
   ]
  },
  {
   "cell_type": "code",
   "execution_count": 31,
   "id": "fa3ebe3b",
   "metadata": {},
   "outputs": [
    {
     "data": {
      "text/plain": [
       "'Python'"
      ]
     },
     "execution_count": 31,
     "metadata": {},
     "output_type": "execute_result"
    }
   ],
   "source": [
    "t[3]"
   ]
  },
  {
   "cell_type": "markdown",
   "id": "26da1d51",
   "metadata": {},
   "source": [
    "# Dictionary"
   ]
  },
  {
   "cell_type": "code",
   "execution_count": 32,
   "id": "e5862b47",
   "metadata": {},
   "outputs": [],
   "source": [
    "# Creating blank dictionary"
   ]
  },
  {
   "cell_type": "code",
   "execution_count": 33,
   "id": "689354b3",
   "metadata": {},
   "outputs": [
    {
     "data": {
      "text/plain": [
       "dict"
      ]
     },
     "execution_count": 33,
     "metadata": {},
     "output_type": "execute_result"
    }
   ],
   "source": [
    "dictionary = {}\n",
    "type(dictionary)"
   ]
  },
  {
   "cell_type": "code",
   "execution_count": 43,
   "id": "f259518d",
   "metadata": {},
   "outputs": [],
   "source": [
    "dictionary = {\n",
    "    'Name' : 'ABC',\n",
    "    'Age' : 25,\n",
    "    'Location' : 'Pune',\n",
    "    'Course': 'DS'\n",
    "}"
   ]
  },
  {
   "cell_type": "code",
   "execution_count": 37,
   "id": "4726b624",
   "metadata": {},
   "outputs": [],
   "source": [
    "# get"
   ]
  },
  {
   "cell_type": "code",
   "execution_count": 44,
   "id": "72c04ecb",
   "metadata": {},
   "outputs": [
    {
     "data": {
      "text/plain": [
       "'ABC'"
      ]
     },
     "execution_count": 44,
     "metadata": {},
     "output_type": "execute_result"
    }
   ],
   "source": [
    "dictionary.get('Name')"
   ]
  },
  {
   "cell_type": "code",
   "execution_count": 39,
   "id": "5f29aa4d",
   "metadata": {},
   "outputs": [],
   "source": [
    "# items"
   ]
  },
  {
   "cell_type": "code",
   "execution_count": 45,
   "id": "1e8862c5",
   "metadata": {},
   "outputs": [
    {
     "data": {
      "text/plain": [
       "dict_items([('Name', 'ABC'), ('Age', 25), ('Location', 'Pune'), ('Course', 'DS')])"
      ]
     },
     "execution_count": 45,
     "metadata": {},
     "output_type": "execute_result"
    }
   ],
   "source": [
    "dictionary.items()"
   ]
  },
  {
   "cell_type": "code",
   "execution_count": 46,
   "id": "1334ed77",
   "metadata": {},
   "outputs": [],
   "source": [
    "# keys"
   ]
  },
  {
   "cell_type": "code",
   "execution_count": 48,
   "id": "0066266a",
   "metadata": {},
   "outputs": [
    {
     "data": {
      "text/plain": [
       "dict_keys(['Name', 'Age', 'Location', 'Course'])"
      ]
     },
     "execution_count": 48,
     "metadata": {},
     "output_type": "execute_result"
    }
   ],
   "source": [
    "dictionary.keys()"
   ]
  },
  {
   "cell_type": "code",
   "execution_count": 49,
   "id": "df0cb3d2",
   "metadata": {},
   "outputs": [],
   "source": [
    "# Adding values in variable"
   ]
  },
  {
   "cell_type": "code",
   "execution_count": 50,
   "id": "735f6f88",
   "metadata": {},
   "outputs": [],
   "source": [
    "dictionary.update({'Date' : 2023})"
   ]
  },
  {
   "cell_type": "code",
   "execution_count": 51,
   "id": "e7ef8520",
   "metadata": {},
   "outputs": [
    {
     "data": {
      "text/plain": [
       "{'Name': 'ABC', 'Age': 25, 'Location': 'Pune', 'Course': 'DS', 'Date': 2023}"
      ]
     },
     "execution_count": 51,
     "metadata": {},
     "output_type": "execute_result"
    }
   ],
   "source": [
    "dictionary"
   ]
  },
  {
   "cell_type": "code",
   "execution_count": 52,
   "id": "2f8691c5",
   "metadata": {},
   "outputs": [],
   "source": [
    "dictionary.update({'Subject' : 'ML', 'Month' : 'July'})"
   ]
  },
  {
   "cell_type": "code",
   "execution_count": 53,
   "id": "e7a795e0",
   "metadata": {},
   "outputs": [
    {
     "data": {
      "text/plain": [
       "{'Name': 'ABC',\n",
       " 'Age': 25,\n",
       " 'Location': 'Pune',\n",
       " 'Course': 'DS',\n",
       " 'Date': 2023,\n",
       " 'Subject': 'ML',\n",
       " 'Month': 'July'}"
      ]
     },
     "execution_count": 53,
     "metadata": {},
     "output_type": "execute_result"
    }
   ],
   "source": [
    "dictionary"
   ]
  },
  {
   "cell_type": "code",
   "execution_count": 54,
   "id": "675e242b",
   "metadata": {},
   "outputs": [
    {
     "data": {
      "text/plain": [
       "'ABC'"
      ]
     },
     "execution_count": 54,
     "metadata": {},
     "output_type": "execute_result"
    }
   ],
   "source": [
    "dictionary['Name']"
   ]
  },
  {
   "cell_type": "code",
   "execution_count": 55,
   "id": "4cfaba6e",
   "metadata": {},
   "outputs": [],
   "source": [
    "dictionary['Name'] = 'XYZ'    #updates the value"
   ]
  },
  {
   "cell_type": "code",
   "execution_count": 56,
   "id": "2a62a2d5",
   "metadata": {},
   "outputs": [
    {
     "data": {
      "text/plain": [
       "{'Name': 'XYZ',\n",
       " 'Age': 25,\n",
       " 'Location': 'Pune',\n",
       " 'Course': 'DS',\n",
       " 'Date': 2023,\n",
       " 'Subject': 'ML',\n",
       " 'Month': 'July'}"
      ]
     },
     "execution_count": 56,
     "metadata": {},
     "output_type": "execute_result"
    }
   ],
   "source": [
    "dictionary"
   ]
  },
  {
   "cell_type": "code",
   "execution_count": 57,
   "id": "4b1732fe",
   "metadata": {},
   "outputs": [],
   "source": [
    "# pop"
   ]
  },
  {
   "cell_type": "code",
   "execution_count": 58,
   "id": "388ba090",
   "metadata": {},
   "outputs": [
    {
     "data": {
      "text/plain": [
       "'XYZ'"
      ]
     },
     "execution_count": 58,
     "metadata": {},
     "output_type": "execute_result"
    }
   ],
   "source": [
    "dictionary.pop('Name')  #deletes the data mentioned in the brackets"
   ]
  },
  {
   "cell_type": "code",
   "execution_count": 59,
   "id": "891db4d0",
   "metadata": {},
   "outputs": [
    {
     "data": {
      "text/plain": [
       "{'Age': 25,\n",
       " 'Location': 'Pune',\n",
       " 'Course': 'DS',\n",
       " 'Date': 2023,\n",
       " 'Subject': 'ML',\n",
       " 'Month': 'July'}"
      ]
     },
     "execution_count": 59,
     "metadata": {},
     "output_type": "execute_result"
    }
   ],
   "source": [
    "dictionary"
   ]
  },
  {
   "cell_type": "markdown",
   "id": "51af372e",
   "metadata": {},
   "source": [
    "# Set"
   ]
  },
  {
   "cell_type": "code",
   "execution_count": 64,
   "id": "065315c4",
   "metadata": {},
   "outputs": [],
   "source": [
    "# Does not allow duplicate items"
   ]
  },
  {
   "cell_type": "code",
   "execution_count": 65,
   "id": "f33bd342",
   "metadata": {},
   "outputs": [],
   "source": [
    "s1 = {10,10,10,20,30,40,50}"
   ]
  },
  {
   "cell_type": "code",
   "execution_count": 66,
   "id": "337e8e1b",
   "metadata": {},
   "outputs": [
    {
     "data": {
      "text/plain": [
       "{10, 20, 30, 40, 50}"
      ]
     },
     "execution_count": 66,
     "metadata": {},
     "output_type": "execute_result"
    }
   ],
   "source": [
    "s1"
   ]
  },
  {
   "cell_type": "code",
   "execution_count": 67,
   "id": "69edd313",
   "metadata": {},
   "outputs": [],
   "source": [
    "# Does not allow indexing"
   ]
  },
  {
   "cell_type": "code",
   "execution_count": 68,
   "id": "ec2ea121",
   "metadata": {},
   "outputs": [],
   "source": [
    "s = {1,2,1.2,True}   #Takes True as 1 so it becomes a duplicate value"
   ]
  },
  {
   "cell_type": "code",
   "execution_count": 69,
   "id": "0fc51508",
   "metadata": {},
   "outputs": [
    {
     "data": {
      "text/plain": [
       "{1, 1.2, 2}"
      ]
     },
     "execution_count": 69,
     "metadata": {},
     "output_type": "execute_result"
    }
   ],
   "source": [
    "s"
   ]
  },
  {
   "cell_type": "code",
   "execution_count": 70,
   "id": "650eb9fd",
   "metadata": {},
   "outputs": [],
   "source": [
    "#Add"
   ]
  },
  {
   "cell_type": "code",
   "execution_count": 71,
   "id": "69457f2a",
   "metadata": {},
   "outputs": [],
   "source": [
    "s1.add(60)"
   ]
  },
  {
   "cell_type": "code",
   "execution_count": 72,
   "id": "0571cbca",
   "metadata": {},
   "outputs": [
    {
     "data": {
      "text/plain": [
       "{10, 20, 30, 40, 50, 60}"
      ]
     },
     "execution_count": 72,
     "metadata": {},
     "output_type": "execute_result"
    }
   ],
   "source": [
    "s1"
   ]
  },
  {
   "cell_type": "code",
   "execution_count": 73,
   "id": "70065e80",
   "metadata": {},
   "outputs": [],
   "source": [
    "#pop"
   ]
  },
  {
   "cell_type": "code",
   "execution_count": 74,
   "id": "e1a105df",
   "metadata": {},
   "outputs": [
    {
     "data": {
      "text/plain": [
       "50"
      ]
     },
     "execution_count": 74,
     "metadata": {},
     "output_type": "execute_result"
    }
   ],
   "source": [
    "s1.pop()   #deletes the value randomly"
   ]
  },
  {
   "cell_type": "code",
   "execution_count": 75,
   "id": "5b4b9a5c",
   "metadata": {},
   "outputs": [
    {
     "data": {
      "text/plain": [
       "20"
      ]
     },
     "execution_count": 75,
     "metadata": {},
     "output_type": "execute_result"
    }
   ],
   "source": [
    "s1.pop()"
   ]
  },
  {
   "cell_type": "code",
   "execution_count": null,
   "id": "79200717",
   "metadata": {},
   "outputs": [],
   "source": []
  },
  {
   "cell_type": "markdown",
   "id": "45922561",
   "metadata": {},
   "source": [
    "# User Input"
   ]
  },
  {
   "cell_type": "code",
   "execution_count": 76,
   "id": "4f5a613c",
   "metadata": {},
   "outputs": [],
   "source": [
    "age = 55"
   ]
  },
  {
   "cell_type": "code",
   "execution_count": 78,
   "id": "b6fa66a9",
   "metadata": {},
   "outputs": [
    {
     "name": "stdout",
     "output_type": "stream",
     "text": [
      "58\n"
     ]
    }
   ],
   "source": [
    "age = input()    #any value we add will be displayed as string datatype"
   ]
  },
  {
   "cell_type": "code",
   "execution_count": 79,
   "id": "7cbacba5",
   "metadata": {},
   "outputs": [
    {
     "data": {
      "text/plain": [
       "'58'"
      ]
     },
     "execution_count": 79,
     "metadata": {},
     "output_type": "execute_result"
    }
   ],
   "source": [
    "age"
   ]
  },
  {
   "cell_type": "code",
   "execution_count": 80,
   "id": "4e2e930d",
   "metadata": {},
   "outputs": [
    {
     "data": {
      "text/plain": [
       "str"
      ]
     },
     "execution_count": 80,
     "metadata": {},
     "output_type": "execute_result"
    }
   ],
   "source": [
    "type(age)"
   ]
  },
  {
   "cell_type": "code",
   "execution_count": 82,
   "id": "7e79d326",
   "metadata": {},
   "outputs": [
    {
     "name": "stdout",
     "output_type": "stream",
     "text": [
      "Enter first number: 5\n",
      "Enter second number: 10\n"
     ]
    },
    {
     "data": {
      "text/plain": [
       "'510'"
      ]
     },
     "execution_count": 82,
     "metadata": {},
     "output_type": "execute_result"
    }
   ],
   "source": [
    "num1 = input('Enter first number: ')\n",
    "num2 = input('Enter second number: ')\n",
    "\n",
    "num1+num2     #joins the values"
   ]
  },
  {
   "cell_type": "code",
   "execution_count": 84,
   "id": "1a7b5e9f",
   "metadata": {},
   "outputs": [
    {
     "name": "stdout",
     "output_type": "stream",
     "text": [
      "Enter first number: 5\n",
      "Enter second number: 10\n"
     ]
    },
    {
     "data": {
      "text/plain": [
       "15"
      ]
     },
     "execution_count": 84,
     "metadata": {},
     "output_type": "execute_result"
    }
   ],
   "source": [
    "num1 = int(input('Enter first number: '))\n",
    "num2 = int(input('Enter second number: '))\n",
    "\n",
    "num1+num2  #using int it will consider the value as integer and performs the addition"
   ]
  },
  {
   "cell_type": "code",
   "execution_count": null,
   "id": "cc35e6c8",
   "metadata": {},
   "outputs": [],
   "source": []
  },
  {
   "cell_type": "code",
   "execution_count": 83,
   "id": "56259bd3",
   "metadata": {},
   "outputs": [
    {
     "data": {
      "text/plain": [
       "'Python language'"
      ]
     },
     "execution_count": 83,
     "metadata": {},
     "output_type": "execute_result"
    }
   ],
   "source": [
    "txt1 = 'Python'\n",
    "txt2 = 'language'\n",
    "\n",
    "txt1+' '+txt2"
   ]
  },
  {
   "cell_type": "code",
   "execution_count": 85,
   "id": "630694fe",
   "metadata": {},
   "outputs": [
    {
     "name": "stdout",
     "output_type": "stream",
     "text": [
      "52\n"
     ]
    }
   ],
   "source": [
    "age = float(input())"
   ]
  },
  {
   "cell_type": "code",
   "execution_count": 86,
   "id": "4b20cf3c",
   "metadata": {},
   "outputs": [
    {
     "data": {
      "text/plain": [
       "52.0"
      ]
     },
     "execution_count": 86,
     "metadata": {},
     "output_type": "execute_result"
    }
   ],
   "source": [
    "age"
   ]
  },
  {
   "cell_type": "code",
   "execution_count": 87,
   "id": "77b91a23",
   "metadata": {},
   "outputs": [
    {
     "name": "stdout",
     "output_type": "stream",
     "text": [
      "Enter your age 5\n"
     ]
    }
   ],
   "source": [
    "age = int(input('Enter your age '))"
   ]
  },
  {
   "cell_type": "code",
   "execution_count": 88,
   "id": "5b5b9172",
   "metadata": {},
   "outputs": [
    {
     "data": {
      "text/plain": [
       "5"
      ]
     },
     "execution_count": 88,
     "metadata": {},
     "output_type": "execute_result"
    }
   ],
   "source": [
    "age"
   ]
  },
  {
   "cell_type": "code",
   "execution_count": null,
   "id": "b68f333b",
   "metadata": {},
   "outputs": [],
   "source": []
  }
 ],
 "metadata": {
  "kernelspec": {
   "display_name": "Python 3 (ipykernel)",
   "language": "python",
   "name": "python3"
  },
  "language_info": {
   "codemirror_mode": {
    "name": "ipython",
    "version": 3
   },
   "file_extension": ".py",
   "mimetype": "text/x-python",
   "name": "python",
   "nbconvert_exporter": "python",
   "pygments_lexer": "ipython3",
   "version": "3.11.4"
  }
 },
 "nbformat": 4,
 "nbformat_minor": 5
}
