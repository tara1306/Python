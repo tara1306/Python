{
 "cells": [
  {
   "cell_type": "code",
   "execution_count": 1,
   "id": "593c2c22",
   "metadata": {},
   "outputs": [
    {
     "data": {
      "text/plain": [
       "10"
      ]
     },
     "execution_count": 1,
     "metadata": {},
     "output_type": "execute_result"
    }
   ],
   "source": [
    "10"
   ]
  },
  {
   "cell_type": "code",
   "execution_count": 3,
   "id": "68364455",
   "metadata": {},
   "outputs": [
    {
     "data": {
      "text/plain": [
       "10"
      ]
     },
     "execution_count": 3,
     "metadata": {},
     "output_type": "execute_result"
    }
   ],
   "source": [
    "a = 10\n",
    "a"
   ]
  },
  {
   "cell_type": "code",
   "execution_count": 4,
   "id": "d8a6817c",
   "metadata": {},
   "outputs": [
    {
     "data": {
      "text/plain": [
       "140724758549576"
      ]
     },
     "execution_count": 4,
     "metadata": {},
     "output_type": "execute_result"
    }
   ],
   "source": [
    "id(a)   \n",
    "# location of variable where it is stored"
   ]
  },
  {
   "cell_type": "code",
   "execution_count": 5,
   "id": "bb409711",
   "metadata": {},
   "outputs": [
    {
     "ename": "SyntaxError",
     "evalue": "invalid decimal literal (3557659865.py, line 1)",
     "output_type": "error",
     "traceback": [
      "\u001b[1;36m  Cell \u001b[1;32mIn[5], line 1\u001b[1;36m\u001b[0m\n\u001b[1;33m    2name = 'Python'\u001b[0m\n\u001b[1;37m    ^\u001b[0m\n\u001b[1;31mSyntaxError\u001b[0m\u001b[1;31m:\u001b[0m invalid decimal literal\n"
     ]
    }
   ],
   "source": [
    "2name = 'Python'\n",
    "@name = 'Python'\n",
    "# invalid variable name"
   ]
  },
  {
   "cell_type": "code",
   "execution_count": 6,
   "id": "223fc4db",
   "metadata": {},
   "outputs": [],
   "source": [
    "name2 = 'Python'"
   ]
  },
  {
   "cell_type": "code",
   "execution_count": 7,
   "id": "fd7c71f8",
   "metadata": {},
   "outputs": [],
   "source": [
    "# Single line comment -> will not be executed in output sction"
   ]
  },
  {
   "cell_type": "code",
   "execution_count": 9,
   "id": "c8078078",
   "metadata": {},
   "outputs": [
    {
     "data": {
      "text/plain": [
       "'Multi\\nLine\\nComment'"
      ]
     },
     "execution_count": 9,
     "metadata": {},
     "output_type": "execute_result"
    }
   ],
   "source": [
    "'''Multi \n",
    "Line\n",
    "Comment'''\n",
    "# will be executed in the output section"
   ]
  },
  {
   "cell_type": "code",
   "execution_count": 11,
   "id": "639b4185",
   "metadata": {},
   "outputs": [
    {
     "data": {
      "text/plain": [
       "455156"
      ]
     },
     "execution_count": 11,
     "metadata": {},
     "output_type": "execute_result"
    }
   ],
   "source": [
    "# Integer\n",
    "pin_code = 455156\n",
    "pin_code"
   ]
  },
  {
   "cell_type": "code",
   "execution_count": 12,
   "id": "485f4780",
   "metadata": {},
   "outputs": [
    {
     "data": {
      "text/plain": [
       "int"
      ]
     },
     "execution_count": 12,
     "metadata": {},
     "output_type": "execute_result"
    }
   ],
   "source": [
    "type(pin_code)"
   ]
  },
  {
   "cell_type": "code",
   "execution_count": 13,
   "id": "59473729",
   "metadata": {},
   "outputs": [
    {
     "data": {
      "text/plain": [
       "25.5"
      ]
     },
     "execution_count": 13,
     "metadata": {},
     "output_type": "execute_result"
    }
   ],
   "source": [
    "temp = 25.5\n",
    "temp"
   ]
  },
  {
   "cell_type": "code",
   "execution_count": 14,
   "id": "39582466",
   "metadata": {},
   "outputs": [
    {
     "data": {
      "text/plain": [
       "float"
      ]
     },
     "execution_count": 14,
     "metadata": {},
     "output_type": "execute_result"
    }
   ],
   "source": [
    "type(temp)"
   ]
  },
  {
   "cell_type": "code",
   "execution_count": 16,
   "id": "c9e87a9a",
   "metadata": {},
   "outputs": [
    {
     "data": {
      "text/plain": [
       "True"
      ]
     },
     "execution_count": 16,
     "metadata": {},
     "output_type": "execute_result"
    }
   ],
   "source": [
    "logical = True\n",
    "logical"
   ]
  },
  {
   "cell_type": "code",
   "execution_count": 17,
   "id": "eee4e3fe",
   "metadata": {},
   "outputs": [
    {
     "data": {
      "text/plain": [
       "bool"
      ]
     },
     "execution_count": 17,
     "metadata": {},
     "output_type": "execute_result"
    }
   ],
   "source": [
    "type(logical)"
   ]
  },
  {
   "cell_type": "code",
   "execution_count": 18,
   "id": "fe659a60",
   "metadata": {},
   "outputs": [],
   "source": [
    "# String creation"
   ]
  },
  {
   "cell_type": "code",
   "execution_count": 19,
   "id": "5b9bf360",
   "metadata": {},
   "outputs": [],
   "source": [
    "s = 'We are learning Python'\n",
    "s1 = \"We are learning Python\"\n",
    "s2 = '''We are learning Python'''"
   ]
  },
  {
   "cell_type": "code",
   "execution_count": 20,
   "id": "eedc9e1d",
   "metadata": {},
   "outputs": [
    {
     "data": {
      "text/plain": [
       "True"
      ]
     },
     "execution_count": 20,
     "metadata": {},
     "output_type": "execute_result"
    }
   ],
   "source": [
    "s == s1"
   ]
  },
  {
   "cell_type": "code",
   "execution_count": 21,
   "id": "e565614b",
   "metadata": {},
   "outputs": [
    {
     "data": {
      "text/plain": [
       "True"
      ]
     },
     "execution_count": 21,
     "metadata": {},
     "output_type": "execute_result"
    }
   ],
   "source": [
    "s == s2"
   ]
  },
  {
   "cell_type": "code",
   "execution_count": 22,
   "id": "da2696d4",
   "metadata": {},
   "outputs": [
    {
     "ename": "SyntaxError",
     "evalue": "invalid syntax (1452318895.py, line 1)",
     "output_type": "error",
     "traceback": [
      "\u001b[1;36m  Cell \u001b[1;32mIn[22], line 1\u001b[1;36m\u001b[0m\n\u001b[1;33m    st = 'It's a laptop\u001b[0m\n\u001b[1;37m             ^\u001b[0m\n\u001b[1;31mSyntaxError\u001b[0m\u001b[1;31m:\u001b[0m invalid syntax\n"
     ]
    }
   ],
   "source": [
    "st = 'It's a laptop\n",
    "st = 'It's a laptop'\n",
    "# invalid"
   ]
  },
  {
   "cell_type": "code",
   "execution_count": null,
   "id": "472de141",
   "metadata": {},
   "outputs": [],
   "source": [
    "st = \"It's a laptop\"\n",
    "st"
   ]
  },
  {
   "cell_type": "code",
   "execution_count": 27,
   "id": "5fba0615",
   "metadata": {},
   "outputs": [
    {
     "data": {
      "text/plain": [
       "'60'"
      ]
     },
     "execution_count": 27,
     "metadata": {},
     "output_type": "execute_result"
    }
   ],
   "source": [
    "# Type casting\n",
    "age = 60\n",
    "str(age)"
   ]
  },
  {
   "cell_type": "code",
   "execution_count": 28,
   "id": "be0dbd4a",
   "metadata": {},
   "outputs": [
    {
     "data": {
      "text/plain": [
       "str"
      ]
     },
     "execution_count": 28,
     "metadata": {},
     "output_type": "execute_result"
    }
   ],
   "source": [
    "x = str(age)\n",
    "type(x)"
   ]
  },
  {
   "cell_type": "code",
   "execution_count": 29,
   "id": "e891640a",
   "metadata": {},
   "outputs": [
    {
     "data": {
      "text/plain": [
       "60"
      ]
     },
     "execution_count": 29,
     "metadata": {},
     "output_type": "execute_result"
    }
   ],
   "source": [
    "int(x)"
   ]
  },
  {
   "cell_type": "code",
   "execution_count": 30,
   "id": "4bfaabce",
   "metadata": {},
   "outputs": [
    {
     "data": {
      "text/plain": [
       "60.0"
      ]
     },
     "execution_count": 30,
     "metadata": {},
     "output_type": "execute_result"
    }
   ],
   "source": [
    "float(age)"
   ]
  },
  {
   "cell_type": "code",
   "execution_count": 31,
   "id": "0dbc34da",
   "metadata": {},
   "outputs": [
    {
     "data": {
      "text/plain": [
       "60"
      ]
     },
     "execution_count": 31,
     "metadata": {},
     "output_type": "execute_result"
    }
   ],
   "source": [
    "age"
   ]
  },
  {
   "cell_type": "code",
   "execution_count": 32,
   "id": "ad15d854",
   "metadata": {},
   "outputs": [
    {
     "data": {
      "text/plain": [
       "True"
      ]
     },
     "execution_count": 32,
     "metadata": {},
     "output_type": "execute_result"
    }
   ],
   "source": [
    "# 0 will give output as False and any other than 0 will give output as True\n",
    "bool(-5)"
   ]
  },
  {
   "cell_type": "code",
   "execution_count": 34,
   "id": "465d646d",
   "metadata": {},
   "outputs": [
    {
     "data": {
      "text/plain": [
       "False"
      ]
     },
     "execution_count": 34,
     "metadata": {},
     "output_type": "execute_result"
    }
   ],
   "source": [
    "zero = 0\n",
    "bool(zero)"
   ]
  },
  {
   "cell_type": "code",
   "execution_count": null,
   "id": "90608be2",
   "metadata": {},
   "outputs": [],
   "source": [
    "type()"
   ]
  }
 ],
 "metadata": {
  "kernelspec": {
   "display_name": "Python 3 (ipykernel)",
   "language": "python",
   "name": "python3"
  },
  "language_info": {
   "codemirror_mode": {
    "name": "ipython",
    "version": 3
   },
   "file_extension": ".py",
   "mimetype": "text/x-python",
   "name": "python",
   "nbconvert_exporter": "python",
   "pygments_lexer": "ipython3",
   "version": "3.11.4"
  }
 },
 "nbformat": 4,
 "nbformat_minor": 5
}
